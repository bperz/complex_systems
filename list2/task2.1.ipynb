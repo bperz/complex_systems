{
 "cells": [
  {
   "cell_type": "code",
   "execution_count": 14,
   "metadata": {},
   "outputs": [],
   "source": [
    "import networkx as nx\n",
    "import numpy as np\n",
    "import matplotlib.pyplot as plt\n",
    "from IPython.display import display, clear_output"
   ]
  },
  {
   "cell_type": "code",
   "execution_count": 2,
   "metadata": {},
   "outputs": [],
   "source": [
    "def WS(N, k, beta):\n",
    "\n",
    "    WS = nx.Graph()\n",
    "\n",
    "    nodes = np.arange(0, N).astype(int)\n",
    "\n",
    "    links = np.zeros((N,k)).astype(int)\n",
    "    md = k%2\n",
    "\n",
    "#     links = np.array([[node, i] for node in nodes for i in range(node - k//2 - md, node + 1 + k//2) if i != node])\n",
    "    links = [[node, i%N] for node in nodes for i in range(node+1, node + k//2 + 1)]\n",
    "    WS.add_edges_from(links)\n",
    "    nw = set()\n",
    "\n",
    "    for node in nodes:\n",
    "        neighbors = set(WS.neighbors(node))\n",
    "        \n",
    "        for ngb in neighbors:\n",
    "            if np.random.rand() < beta:\n",
    "                WS.remove_edge(node, ngb)\n",
    "                c = np.random.choice(nodes)\n",
    "                while c == node or c in neighbors or (node, c) in nw:\n",
    "                    c = np.random.choice(nodes)\n",
    "                nw.add((node, c))\n",
    "\n",
    "    \n",
    "    WS.add_edges_from(nw)\n",
    "    \n",
    "    return WS\n"
   ]
  },
  {
   "cell_type": "code",
   "execution_count": 36,
   "metadata": {},
   "outputs": [
    {
     "data": {
      "text/plain": [
       "'finished'"
      ]
     },
     "metadata": {},
     "output_type": "display_data"
    }
   ],
   "source": [
    "p_results = {4:[], 8:[], 10:[]}\n",
    "c_results = {4:[], 8:[], 10:[]}\n",
    "N = 1000\n",
    "k_list = [4,8,10]\n",
    "\n",
    "for i_k, k in enumerate(k_list):\n",
    "    betas = np.logspace(-4, 0, 15)\n",
    "                        \n",
    "    for i_b, beta in enumerate(betas):\n",
    "                        \n",
    "        clear_output(wait=True)\n",
    "        display('k: ' + str(k) + ', '+\n",
    "                'local progress: {:.0f}'.format(i_b/len(betas)*100)+'%, '+\n",
    "                'global progress: {:.0f}'.format((i_k*betas.shape[0]+i_b)/(betas.shape[0]*len(k_list))*100)+'%'\n",
    "               )\n",
    "                \n",
    "        ws = WS(N, k, beta)\n",
    "        sp = nx.shortest_path(ws)\n",
    "        \n",
    "        dists = []\n",
    "        cnt = 0\n",
    "        for node_paths in sp.values():\n",
    "            cnt += 1\n",
    "            dists.append(\n",
    "                sum([len(path)-1 for path in node_paths.values()])\n",
    "            )\n",
    "            \n",
    "        \n",
    "            \n",
    "        nodes = list(ws.nodes())\n",
    "        counts = []\n",
    "\n",
    "        for node in ws.nodes():\n",
    "            counter = 0\n",
    "            nl = list(ws.neighbors(node))\n",
    "            for neighbor in nl:\n",
    "                ns = set(ws.neighbors(neighbor))\n",
    "                for nb2 in nl:\n",
    "                    if nb2 in ns:\n",
    "                        counter += 1\n",
    "\n",
    "            counts.append([counter, len(nl)])\n",
    "        \n",
    "#         p_results[k].append([dists, len(node_paths.values())])\n",
    "        p_results[k].append([dists, cnt])\n",
    "        c_results[k].append(counts)\n",
    "\n",
    "clear_output(wait=True)\n",
    "display('finished')"
   ]
  },
  {
   "cell_type": "markdown",
   "metadata": {},
   "source": [
    "Avg path length"
   ]
  },
  {
   "cell_type": "code",
   "execution_count": 24,
   "metadata": {},
   "outputs": [],
   "source": [
    "p_c = {4:[], 8:[], 10:[]}\n",
    "# print(sum(i[0])/(N*(N-1))/denom)\n",
    "for i in k_list:\n",
    "    denom = sum(p_results[i][0][0])/(N*(N-1))\n",
    "    \n",
    "    for j in p_results[i]:\n",
    "    #     p_c.append(sum(i[0])/(N*(N-1))/denom)\n",
    "        p_c[i].append(sum(j[0])/(N*(N-1))/denom)"
   ]
  },
  {
   "cell_type": "markdown",
   "metadata": {},
   "source": [
    "Clustering coefficient"
   ]
  },
  {
   "cell_type": "code",
   "execution_count": 25,
   "metadata": {},
   "outputs": [],
   "source": [
    "c_c = {4:[], 8:[], 10:[]}\n",
    "\n",
    "for j in k_list:\n",
    "\n",
    "    for bet in c_results[j]:\n",
    "        count = 0\n",
    "    #     p_c.append(sum(i[0])/(N*(N-1))/denom)\n",
    "        for i in bet:\n",
    "            if i[1] == 0 or i[1] == 1:\n",
    "                continue\n",
    "            count += i[0]/(i[1]*(i[1]-1))\n",
    "\n",
    "        c_c[j].append(count/N)\n",
    "\n",
    "    c_c[j] = [i/c_c[j][0] for i in c_c[j]]"
   ]
  },
  {
   "cell_type": "code",
   "execution_count": 26,
   "metadata": {},
   "outputs": [
    {
     "data": {
      "image/png": "[encoded data removed]",
      "text/plain": [
       "<Figure size 432x288 with 1 Axes>"
      ]
     },
     "metadata": {
      "needs_background": "light"
     },
     "output_type": "display_data"
    },
    {
     "data": {
      "image/png": "[encoded data removed]",
      "text/plain": [
       "<Figure size 432x288 with 1 Axes>"
      ]
     },
     "metadata": {
      "needs_background": "light"
     },
     "output_type": "display_data"
    },
    {
     "data": {
      "image/png": "[encoded data removed]",
      "text/plain": [
       "<Figure size 432x288 with 1 Axes>"
      ]
     },
     "metadata": {
      "needs_background": "light"
     },
     "output_type": "display_data"
    }
   ],
   "source": [
    "for i in k_list:\n",
    "    plt.figure()\n",
    "    plt.plot(np.logspace(-4, 0, 15), p_c[10], 'bo', label=\"d(p)/d(0)\")\n",
    "    plt.plot(np.logspace(-4, 0, 15), c_c[10], 'ro', label=\"c(p)/c(0)\")\n",
    "    plt.xscale('log')\n",
    "    plt.legend()"
   ]
  },
  {
   "cell_type": "code",
   "execution_count": null,
   "metadata": {},
   "outputs": [],
   "source": []
  }
 ],
 "metadata": {
  "kernelspec": {
   "display_name": "Python 3",
   "language": "python",
   "name": "python3"
  },
  "language_info": {
   "codemirror_mode": {
    "name": "ipython",
    "version": 3
   },
   "file_extension": ".py",
   "mimetype": "text/x-python",
   "name": "python",
   "nbconvert_exporter": "python",
   "pygments_lexer": "ipython3",
   "version": "3.7.1"
  }
 },
 "nbformat": 4,
 "nbformat_minor": 2
}
