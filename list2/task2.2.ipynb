{
 "cells": [
  {
   "cell_type": "code",
   "execution_count": 1,
   "metadata": {},
   "outputs": [],
   "source": [
    "import networkx as nx\n",
    "import numpy as np\n",
    "import matplotlib.pyplot as plt\n",
    "import time"
   ]
  },
  {
   "cell_type": "code",
   "execution_count": 2,
   "metadata": {},
   "outputs": [],
   "source": [
    "def WS(N, k, beta):\n",
    "\n",
    "    WS = nx.Graph()\n",
    "\n",
    "    nodes = np.arange(0, N).astype(int)\n",
    "\n",
    "    links = np.zeros((N,k)).astype(int)\n",
    "    md = k%2\n",
    "\n",
    "#     links = np.array([[node, i] for node in nodes for i in range(node - k//2 - md, node + 1 + k//2) if i != node])\n",
    "    links = [[node, i%N] for node in nodes for i in range(node+1, node + k//2 + 1)]\n",
    "    WS.add_edges_from(links)\n",
    "    nw = set()\n",
    "\n",
    "    for node in nodes:\n",
    "        neighbors = set(WS.neighbors(node))\n",
    "        \n",
    "        for ngb in neighbors:\n",
    "            if np.random.rand() < beta:\n",
    "                WS.remove_edge(node, ngb)\n",
    "                c = np.random.choice(nodes)\n",
    "                while c == node or c in neighbors or (node, c) in nw:\n",
    "                    c = np.random.choice(nodes)\n",
    "                nw.add((node, c))\n",
    "\n",
    "    \n",
    "    WS.add_edges_from(nw)\n",
    "    \n",
    "    return WS\n"
   ]
  },
  {
   "cell_type": "code",
   "execution_count": 13,
   "metadata": {},
   "outputs": [],
   "source": [
    "p_results = {4:[]}\n",
    "c_results = {4:[]}\n",
    "beta = 1\n",
    "\n",
    "for k in [4]:\n",
    "    for N in np.linspace(100, 1000, 10).astype(int):\n",
    "        ws = WS(N, k, beta)\n",
    "        sp = nx.shortest_path(ws)\n",
    "        \n",
    "        dists = []\n",
    "        longest = 0\n",
    "        count = 0\n",
    "        for node_paths in sp.values():\n",
    "            \n",
    "            for path in node_paths.values():\n",
    "                count += len(path)-1\n",
    "                if len(path) > longest:\n",
    "                    longest = len(path)-1\n",
    "        dists.append(\n",
    "            count\n",
    "        )       \n",
    "        \n",
    "        p_results[k].append([count, N, longest])\n",
    "    "
   ]
  },
  {
   "cell_type": "code",
   "execution_count": 14,
   "metadata": {},
   "outputs": [
    {
     "data": {
      "text/plain": [
       "[3.5214141414141413,\n",
       " 4.000603015075377,\n",
       " 4.341605351170569,\n",
       " 4.581691729323309,\n",
       " 4.7603446893787575,\n",
       " 4.89983305509182,\n",
       " 5.034171265072553,\n",
       " 5.171326658322903,\n",
       " 5.254517364973427,\n",
       " 5.323161161161162]"
      ]
     },
     "execution_count": 14,
     "metadata": {},
     "output_type": "execute_result"
    }
   ],
   "source": [
    "p_c = []\n",
    "\n",
    "for i in p_results[4]:\n",
    "    p_c.append(i[0]/(i[1]*(i[1]-1)))\n",
    "#     p_c.append(np.mean(i[0]))\n",
    "p_c"
   ]
  },
  {
   "cell_type": "code",
   "execution_count": 15,
   "metadata": {},
   "outputs": [
    {
     "data": {
      "text/plain": [
       "[<matplotlib.lines.Line2D at 0x7f3893729a90>]"
      ]
     },
     "execution_count": 15,
     "metadata": {},
     "output_type": "execute_result"
    },
    {
     "data": {
      "image/png": "[encoded data removed]",
      "text/plain": [
       "<Figure size 432x288 with 1 Axes>"
      ]
     },
     "metadata": {
      "needs_background": "light"
     },
     "output_type": "display_data"
    }
   ],
   "source": [
    "plt.plot(np.linspace(100, 1000, 10), p_c)\n",
    "plt.plot(np.linspace(100, 1000, 10), [np.log(i)/np.log(4) for i in np.linspace(100, 1000, 10)])"
   ]
  },
  {
   "cell_type": "code",
   "execution_count": 32,
   "metadata": {},
   "outputs": [
    {
     "data": {
      "text/plain": [
       "[<matplotlib.lines.Line2D at 0x7f38954dbe48>]"
      ]
     },
     "execution_count": 32,
     "metadata": {},
     "output_type": "execute_result"
    },
    {
     "data": {
      "image/png": "[encoded data removed]",
      "text/plain": [
       "<Figure size 432x288 with 1 Axes>"
      ]
     },
     "metadata": {
      "needs_background": "light"
     },
     "output_type": "display_data"
    }
   ],
   "source": [
    "plt.plot(np.linspace(100, 1000, 10), [np.log(i)/np.log(4) for i in np.linspace(100, 1000, 10)])\n",
    "plt.plot(np.linspace(100, 1000, 10), [p_results[4][i][2] for i in range(len(p_results[4]))])"
   ]
  }
 ],
 "metadata": {
  "kernelspec": {
   "display_name": "Python 3",
   "language": "python",
   "name": "python3"
  },
  "language_info": {
   "codemirror_mode": {
    "name": "ipython",
    "version": 3
   },
   "file_extension": ".py",
   "mimetype": "text/x-python",
   "name": "python",
   "nbconvert_exporter": "python",
   "pygments_lexer": "ipython3",
   "version": "3.7.3"
  }
 },
 "nbformat": 4,
 "nbformat_minor": 2
}
