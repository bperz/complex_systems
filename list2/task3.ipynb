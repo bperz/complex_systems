{
 "cells": [
  {
   "cell_type": "code",
   "execution_count": 99,
   "metadata": {},
   "outputs": [],
   "source": [
    "import networkx as nx\n",
    "import numpy as np\n",
    "import matplotlib.pyplot as plt\n",
    "import matplotlib.image as mpimg\n",
    "import time"
   ]
  },
  {
   "cell_type": "markdown",
   "metadata": {},
   "source": [
    "# tasks a-c"
   ]
  },
  {
   "cell_type": "markdown",
   "metadata": {},
   "source": [
    "I created only one figure (for task3.c) not to generate additional mess"
   ]
  },
  {
   "cell_type": "code",
   "execution_count": 8,
   "metadata": {},
   "outputs": [],
   "source": [
    "G = nx.barabasi_albert_graph(100, 10)"
   ]
  },
  {
   "cell_type": "code",
   "execution_count": 11,
   "metadata": {},
   "outputs": [],
   "source": [
    "img_e = mpimg.imread('great_leader.jpg')\n",
    "img_o = mpimg.imread('capitalist.jpg')"
   ]
  },
  {
   "cell_type": "markdown",
   "metadata": {},
   "source": [
    "Inspired by https://gist.github.com/shobhit/3236373"
   ]
  },
  {
   "cell_type": "markdown",
   "metadata": {},
   "source": [
    "Since figures are quite large I recommend opening saved graph with IrfanView (or some other graphics viewer)"
   ]
  },
  {
   "cell_type": "markdown",
   "metadata": {},
   "source": [
    "Images used by me as well as generated graph is available at https://drive.google.com/open?id=16EK8pX37PzVVHwQk57QYwnqO9bKXfWAB\n",
    "in 'list2' directory"
   ]
  },
  {
   "cell_type": "code",
   "execution_count": 12,
   "metadata": {},
   "outputs": [],
   "source": [
    "# nice layout\n",
    "pos=nx.kamada_kawai_layout(G)\n",
    "plt.figure(figsize=(300,300))\n",
    "\n",
    "#draw network\n",
    "nx.draw_networkx(G,pos,node_size=0.1)\n",
    "\n",
    "# add images on nodes\n",
    "\n",
    "# get axes from nx.draw...\n",
    "ax=plt.gca()\n",
    "# get figure from nx.draw...\n",
    "fig=plt.gcf()\n",
    "\n",
    "# transformation objects for nice plots \n",
    "trans = ax.transData.transform\n",
    "trans2 = fig.transFigure.inverted().transform\n",
    "\n",
    "for n in G.nodes():\n",
    "    (x,y) = pos[n]\n",
    "    \n",
    "    # transform coordinates of layout to coordinates on figure\n",
    "    xx,yy = trans((x,y)) # figure coordinates\n",
    "    xa,ya = trans2((xx,yy)) # axes coordinates\n",
    "    \n",
    "    # size of image based on degree. 0.001 works well for images 256x256 px\n",
    "    degree = len(list(G.neighbors(n)))\n",
    "    imsize = 0.001*degree\n",
    "    \n",
    "    # position of current image\n",
    "    a = plt.axes([xa-imsize/2.0,ya-imsize/2.0, imsize, imsize ])\n",
    "    \n",
    "    # choose image based on degree\n",
    "    if degree%2 == 0:\n",
    "        a.imshow(img_e)\n",
    "    else:\n",
    "        a.imshow(img_o)\n",
    "        \n",
    "    # equal scaling of data on axes\n",
    "    a.set_aspect('equal')\n",
    "    a.axis('off')\n",
    "\n",
    "plt.savefig('save.png') \n",
    "plt.close(fig) #do not show figure (takes too much time)"
   ]
  },
  {
   "cell_type": "markdown",
   "metadata": {},
   "source": [
    "# tasks d-f"
   ]
  },
  {
   "cell_type": "code",
   "execution_count": 101,
   "metadata": {},
   "outputs": [],
   "source": [
    "G = nx.barabasi_albert_graph(10e3, 4)"
   ]
  },
  {
   "cell_type": "code",
   "execution_count": 102,
   "metadata": {},
   "outputs": [],
   "source": [
    "def calc_distr(G):\n",
    "    degrees = []\n",
    "    probs = []\n",
    "\n",
    "    distr = {}\n",
    "    for node in G.nodes():\n",
    "        distr.setdefault(len(list(G.neighbors(node))), 0)\n",
    "        distr[len(list(G.neighbors(node)))] += 1\n",
    "\n",
    "    cnt = sum(distr.values())\n",
    "\n",
    "    degrees = [i for i in distr.keys()]\n",
    "    probs = [distr[i]/cnt for i in degrees]\n",
    "    \n",
    "    return degrees, probs\n",
    "\n",
    "d, p = calc_distr(G)"
   ]
  },
  {
   "cell_type": "code",
   "execution_count": 103,
   "metadata": {},
   "outputs": [
    {
     "data": {
      "text/plain": [
       "(array([0.00426384, 0.00994895, 0.00994895, 0.00994895, 0.00994895,\n",
       "        0.00994895, 0.00852767, 0.00994895, 0.00994895, 0.00710639,\n",
       "        0.00852767, 0.00568511, 0.00426384, 0.00426384, 0.00284256,\n",
       "        0.00142128, 0.00426384, 0.00142128, 0.00426384, 0.00142128,\n",
       "        0.00142128, 0.        , 0.        , 0.00284256, 0.        ,\n",
       "        0.00284256, 0.00142128, 0.        , 0.00142128, 0.00142128,\n",
       "        0.        , 0.00142128, 0.00142128, 0.        , 0.        ,\n",
       "        0.        , 0.        , 0.        , 0.        , 0.        ,\n",
       "        0.        , 0.        , 0.        , 0.        , 0.        ,\n",
       "        0.        , 0.00142128, 0.        , 0.00142128]),\n",
       " array([  0.        ,   6.89795918,  13.79591837,  20.69387755,\n",
       "         27.59183673,  34.48979592,  41.3877551 ,  48.28571429,\n",
       "         55.18367347,  62.08163265,  68.97959184,  75.87755102,\n",
       "         82.7755102 ,  89.67346939,  96.57142857, 103.46938776,\n",
       "        110.36734694, 117.26530612, 124.16326531, 131.06122449,\n",
       "        137.95918367, 144.85714286, 151.75510204, 158.65306122,\n",
       "        165.55102041, 172.44897959, 179.34693878, 186.24489796,\n",
       "        193.14285714, 200.04081633, 206.93877551, 213.83673469,\n",
       "        220.73469388, 227.63265306, 234.53061224, 241.42857143,\n",
       "        248.32653061, 255.2244898 , 262.12244898, 269.02040816,\n",
       "        275.91836735, 282.81632653, 289.71428571, 296.6122449 ,\n",
       "        303.51020408, 310.40816327, 317.30612245, 324.20408163,\n",
       "        331.10204082, 338.        ]),\n",
       " <a list of 49 Patch objects>)"
      ]
     },
     "execution_count": 103,
     "metadata": {},
     "output_type": "execute_result"
    },
    {
     "data": {
      "image/png": "[encoded data removed]",
      "text/plain": [
       "<Figure size 432x288 with 1 Axes>"
      ]
     },
     "metadata": {
      "needs_background": "light"
     },
     "output_type": "display_data"
    },
    {
     "data": {
      "image/png": "[encoded data removed]",
      "text/plain": [
       "<Figure size 432x288 with 1 Axes>"
      ]
     },
     "metadata": {
      "needs_background": "light"
     },
     "output_type": "display_data"
    }
   ],
   "source": [
    "# degree distribution\n",
    "plt.figure()\n",
    "plt.plot(d, p, 'bo')\n",
    "\n",
    "plt.figure()\n",
    "plt.hist(d,bins=np.linspace(0,np.amax(d)+1, 50), density=True)"
   ]
  },
  {
   "cell_type": "code",
   "execution_count": 104,
   "metadata": {},
   "outputs": [],
   "source": [
    "from IPython.display import display, clear_output\n",
    "\n",
    "def paths(G):\n",
    "    clear_output(wait=True)\n",
    "    display('start')\n",
    "    \n",
    "    sp = nx.shortest_path(G)\n",
    "\n",
    "    dists = {}\n",
    "    for i, node_paths in enumerate(sp.values()):\n",
    "        clear_output(wait=True)\n",
    "        display(str(i))\n",
    "        \n",
    "        for path in node_paths.values():\n",
    "            dists.setdefault(len(path)-1,0)\n",
    "            dists[len(path)-1] += 1\n",
    "\n",
    "    clear_output(wait=True)\n",
    "    display('finalizing')\n",
    "    \n",
    "    cnt = sum(dists.values())\n",
    "    degrees = [i for i in dists.keys()]\n",
    "    probs = [dists[i]/cnt for i in degrees] \n",
    "    \n",
    "    clear_output(wait=True)\n",
    "    display('end')\n",
    "    return dists, degrees, probs"
   ]
  },
  {
   "cell_type": "code",
   "execution_count": 106,
   "metadata": {},
   "outputs": [
    {
     "data": {
      "text/plain": [
       "'end'"
      ]
     },
     "metadata": {},
     "output_type": "display_data"
    },
    {
     "name": "stdout",
     "output_type": "stream",
     "text": [
      "684.3063862323761\n"
     ]
    }
   ],
   "source": [
    "start = time.time()\n",
    "ps = list(paths(G))\n",
    "print(time.time() -start)"
   ]
  },
  {
   "cell_type": "code",
   "execution_count": 107,
   "metadata": {},
   "outputs": [
    {
     "data": {
      "text/plain": [
       "[<matplotlib.lines.Line2D at 0x1b27a215048>]"
      ]
     },
     "execution_count": 107,
     "metadata": {},
     "output_type": "execute_result"
    },
    {
     "data": {
      "image/png": "[encoded data removed]",
      "text/plain": [
       "<Figure size 432x288 with 1 Axes>"
      ]
     },
     "metadata": {
      "needs_background": "light"
     },
     "output_type": "display_data"
    }
   ],
   "source": [
    "plt.figure()\n",
    "plt.plot(ps[1], ps[2], 'bo-')"
   ]
  },
  {
   "cell_type": "code",
   "execution_count": 108,
   "metadata": {},
   "outputs": [],
   "source": [
    "def clust(G):\n",
    "    counts = []\n",
    "    \n",
    "    for node in G.nodes():\n",
    "        connections = 0\n",
    "        set_of_neighbors = set(G.neighbors(node))\n",
    "        \n",
    "        for neighbor in set_of_neighbors:\n",
    "            for neighbor_of_neighbor in G.neighbors(neighbor):\n",
    "                if neighbor_of_neighbor in set_of_neighbors:\n",
    "                    connections += 1\n",
    "\n",
    "        counts.append([connections, len(set_of_neighbors)])\n",
    "    \n",
    "    coefficients_counts = {}\n",
    "    for item in counts:\n",
    "        if item[1] == 1:\n",
    "            continue\n",
    "        c = item[0]/(item[1]*(item[1]-1))\n",
    "        coefficients_counts.setdefault(c, 0)\n",
    "        coefficients_counts[c] += 1\n",
    "        \n",
    "    return coefficients_counts\n",
    "    "
   ]
  },
  {
   "cell_type": "code",
   "execution_count": 109,
   "metadata": {},
   "outputs": [],
   "source": [
    "coefficients_counts = clust(G)\n",
    "from more_itertools import sort_together\n",
    "x = [item[0] for item in coefficients_counts.items()]\n",
    "y = [item[1] for item in coefficients_counts.items()]\n",
    "sum_y = sum(y)\n",
    "y_d = [i/sum_y for i in y]\n",
    "x, y_d, y = sort_together([x,y_d, y])"
   ]
  },
  {
   "cell_type": "code",
   "execution_count": 119,
   "metadata": {},
   "outputs": [
    {
     "data": {
      "text/plain": [
       "(array([8.43269622e+01, 1.47315982e+00, 9.79056527e-01, 6.95404636e-01,\n",
       "        7.41154941e-01, 1.83001220e-02, 8.60105734e-01, 0.00000000e+00,\n",
       "        9.05856039e-01]),\n",
       " array([0.        , 0.01111111, 0.02222222, 0.03333333, 0.04444444,\n",
       "        0.05555556, 0.06666667, 0.07777778, 0.08888889, 0.1       ]),\n",
       " <a list of 9 Patch objects>)"
      ]
     },
     "execution_count": 119,
     "metadata": {},
     "output_type": "execute_result"
    },
    {
     "data": {
      "image/png": "[encoded data removed]",
      "text/plain": [
       "<Figure size 432x288 with 1 Axes>"
      ]
     },
     "metadata": {
      "needs_background": "light"
     },
     "output_type": "display_data"
    },
    {
     "data": {
      "image/png": "[encoded data removed]",
      "text/plain": [
       "<Figure size 432x288 with 1 Axes>"
      ]
     },
     "metadata": {
      "needs_background": "light"
     },
     "output_type": "display_data"
    }
   ],
   "source": [
    "plt.plot(x,y_d,'bo')\n",
    "plt.figure()\n",
    "for_hist = [[x]*y for x,y in zip(x,y)]\n",
    "num_bins = 10\n",
    "plt.hist([j for i in for_hist for j in i], bins=np.linspace(0,np.amax(for_hist[0])+0.1, num_bins), density=True)"
   ]
  }
 ],
 "metadata": {
  "kernelspec": {
   "display_name": "Python 3",
   "language": "python",
   "name": "python3"
  },
  "language_info": {
   "codemirror_mode": {
    "name": "ipython",
    "version": 3
   },
   "file_extension": ".py",
   "mimetype": "text/x-python",
   "name": "python",
   "nbconvert_exporter": "python",
   "pygments_lexer": "ipython3",
   "version": "3.7.1"
  }
 },
 "nbformat": 4,
 "nbformat_minor": 2
}
