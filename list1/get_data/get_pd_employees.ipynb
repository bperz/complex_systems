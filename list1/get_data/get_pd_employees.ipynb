{
 "cells": [
  {
   "cell_type": "code",
   "execution_count": 1,
   "metadata": {},
   "outputs": [],
   "source": [
    "import requests\n",
    "import urllib.request\n",
    "from bs4 import BeautifulSoup, NavigableString, Tag\n",
    "import re"
   ]
  },
  {
   "cell_type": "code",
   "execution_count": 2,
   "metadata": {},
   "outputs": [],
   "source": [
    "import lxml.html as lh\n",
    "import pandas as pd"
   ]
  },
  {
   "cell_type": "code",
   "execution_count": 87,
   "metadata": {},
   "outputs": [],
   "source": [
    "r = requests.get(url)\n",
    "html_content = r.text\n",
    "soup = BeautifulSoup(html_content, \"html.parser\")\n",
    "\n",
    "all_labels = soup.find_all(\"table\", class_=\"people\")\n",
    "# print(all_labels)\n",
    "#cuts = soup.find_all(\"td\", scope_=\"col\")\n",
    "res=[]\n",
    "\n",
    "for label in all_labels:\n",
    "    sub = re.sub(r\"on leave\", ' ', label.text)\n",
    "    sub = re.sub(r\"(?:\\().*?(?:\\))+\", ' ', sub)\n",
    "    sub = re.sub(r\"(?:\\d).*?(?:\\n)+\", ' ', sub)\n",
    "    sub = re.sub(r\"(?:[\\:\\,]).*?(?=\\n)\", '', sub)\n",
    "    sub = re.sub(r\"(?<=\\n).(?=\\n)\", ' ', sub)\n",
    "    sub = re.sub(r\"\\bdr\\b\", \" \", sub)\n",
    "    sub = re.sub(r\"mgr\", \" \", sub)\n",
    "    sub = re.sub(r\"hab\\.\", \" \", sub)\n",
    "    sub = re.sub(r\"prof\\.\", \" \", sub)\n",
    "    sub = re.sub(r\"inż\\.\", \" \", sub)\n",
    "    sub = re.sub(r\"(?<=\\n)\\s+(?=\\w)\", '', sub)\n",
    "    sub = re.sub(r\"\\n+\", \";\", sub)\n",
    "    sub = re.sub(r\" ;\", \";\", sub)\n",
    "    res.append(sub.split(';'))\n",
    "    \n",
    "\n",
    "res = [i for l in res for i in l if len(i) > 4]\n",
    "res = [i.split(' ') for i in res]\n",
    "res = [i[0] + ' ' + i[-1] for i in res if len(i[0])>2]\n",
    "res = set(res)\n",
    "res2 = []\n",
    "\n",
    "pol_ang = {'ą':'a', 'ć':'c', 'ę':'e', 'ł':'l', 'ń':'n', 'ó':'o', 'ś':'s', 'ź':'z', 'ż':'z',\n",
    "          'Ą':'A', 'Ć':'c', 'Ę':'E', 'Ł':'L', 'Ń':'N', 'Ó':'O', 'Ś':'S', 'Ź':'Z', 'Ż':'Z'}\n",
    "\n",
    "for i in res:\n",
    "    string = ''\n",
    "    for l in i:\n",
    "        if pol_ang.get(l):\n",
    "            l = pol_ang[l]\n",
    "        string += l\n",
    "        \n",
    "    res2.append(string)\n",
    "            \n",
    "emps = [i.split(' ') for i in res2]\n"
   ]
  },
  {
   "cell_type": "code",
   "execution_count": 91,
   "metadata": {},
   "outputs": [],
   "source": [
    "pd.DataFrame(emps, columns=[\"name\", \"surname\"]).to_csv(\"ph_emps.csv\", index=False)"
   ]
  },
  {
   "cell_type": "code",
   "execution_count": null,
   "metadata": {},
   "outputs": [],
   "source": []
  },
  {
   "cell_type": "code",
   "execution_count": null,
   "metadata": {},
   "outputs": [],
   "source": []
  }
 ],
 "metadata": {
  "kernelspec": {
   "display_name": "Python 3",
   "language": "python",
   "name": "python3"
  },
  "language_info": {
   "codemirror_mode": {
    "name": "ipython",
    "version": 3
   },
   "file_extension": ".py",
   "mimetype": "text/x-python",
   "name": "python",
   "nbconvert_exporter": "python",
   "pygments_lexer": "ipython3",
   "version": "3.7.3"
  }
 },
 "nbformat": 4,
 "nbformat_minor": 2
}
