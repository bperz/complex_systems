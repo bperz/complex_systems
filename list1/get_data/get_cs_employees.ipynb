{
 "cells": [
  {
   "cell_type": "code",
   "execution_count": 1,
   "metadata": {},
   "outputs": [],
   "source": [
    "import requests\n",
    "import urllib.request\n",
    "from bs4 import BeautifulSoup, NavigableString, Tag\n",
    "import re"
   ]
  },
  {
   "cell_type": "code",
   "execution_count": 2,
   "metadata": {},
   "outputs": [],
   "source": [
    "import pandas as pd"
   ]
  },
  {
   "cell_type": "code",
   "execution_count": 3,
   "metadata": {},
   "outputs": [],
   "source": [
    "def get_table(url):\n",
    "\n",
    "    string = ''\n",
    "    \n",
    "    r = requests.get(url)\n",
    "    html_content = r.text\n",
    "    soup = BeautifulSoup(html_content, \"html.parser\")\n",
    "    \n",
    "    for body_child in soup.body.children:\n",
    "        if isinstance(body_child, NavigableString):\n",
    "            continue\n",
    "        if isinstance(body_child, Tag):\n",
    "                tds = body_child.find_all('td')\n",
    "                #tds = tr.find_all('td')\n",
    "                for val in tds:\n",
    "                    string = string + ' ' + val.text\n",
    "\n",
    "    table = re.sub(r\"\\s+(?=\\d)\", '\\n', string[1:]).split('\\n')\n",
    "    table = [st.split(' ') for st in table]\n",
    "    table = [[empl[1], empl[2]] for empl in table]\n",
    "    return table"
   ]
  },
  {
   "cell_type": "code",
   "execution_count": 4,
   "metadata": {},
   "outputs": [],
   "source": [
    "cs_empls = get_table('https://ki.pwr.edu.pl/kadraLista.php')"
   ]
  },
  {
   "cell_type": "code",
   "execution_count": 5,
   "metadata": {},
   "outputs": [],
   "source": [
    "df = pd.DataFrame(cs_empls, columns=(\"name\", \"surname\"))"
   ]
  },
  {
   "cell_type": "code",
   "execution_count": 6,
   "metadata": {},
   "outputs": [],
   "source": [
    "df.to_csv(\"cs_emps.csv\",index=False)"
   ]
  },
  {
   "cell_type": "code",
   "execution_count": null,
   "metadata": {},
   "outputs": [],
   "source": []
  }
 ],
 "metadata": {
  "kernelspec": {
   "display_name": "Python 3",
   "language": "python",
   "name": "python3"
  },
  "language_info": {
   "codemirror_mode": {
    "name": "ipython",
    "version": 3
   },
   "file_extension": ".py",
   "mimetype": "text/x-python",
   "name": "python",
   "nbconvert_exporter": "python",
   "pygments_lexer": "ipython3",
   "version": "3.7.3"
  }
 },
 "nbformat": 4,
 "nbformat_minor": 2
}
