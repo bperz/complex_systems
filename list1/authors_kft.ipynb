{
 "cells": [
  {
   "cell_type": "code",
   "execution_count": 1,
   "metadata": {},
   "outputs": [],
   "source": [
    "import pandas as pd"
   ]
  },
  {
   "cell_type": "code",
   "execution_count": 2,
   "metadata": {},
   "outputs": [],
   "source": [
    "# reading lists of physis employees and their connections\n",
    "ph_emps = pd.read_csv('ph_emps.csv')\n",
    "ph_edges = pd.read_csv('kft_edges.csv')"
   ]
  },
  {
   "cell_type": "code",
   "execution_count": 3,
   "metadata": {},
   "outputs": [],
   "source": [
    "# Creating list of nodes as 'first_name second_name' and edges format (fullname1, fullname2)\n",
    "nodes = [name+' '+surname for name, surname in zip(ph_emps[\"name\"], ph_emps[\"surname\"])]\n",
    "edges = [(name1, name2) for name1, name2 in zip(ph_edges[\"node1\"], ph_edges[\"node2\"])]"
   ]
  },
  {
   "cell_type": "code",
   "execution_count": 4,
   "metadata": {},
   "outputs": [],
   "source": [
    "from pyvis.network import Network"
   ]
  },
  {
   "cell_type": "code",
   "execution_count": 5,
   "metadata": {},
   "outputs": [],
   "source": [
    "# settings of a graph\n",
    "g = Network(height=\"750px\", width=\"100%\", bgcolor=\"#222222\", font_color=\"white\")"
   ]
  },
  {
   "cell_type": "code",
   "execution_count": 6,
   "metadata": {},
   "outputs": [],
   "source": [
    "# adding nodes and edges from created lists\n",
    "for i,node in enumerate(nodes):\n",
    "    g.add_node(node)\n",
    "    \n",
    "for edge in edges:\n",
    "    g.add_edge(edge[0], edge[1])"
   ]
  },
  {
   "cell_type": "code",
   "execution_count": 7,
   "metadata": {},
   "outputs": [],
   "source": [
    "# graph will show in new tab\n",
    "g.show_buttons(filter_=['physics'])\n",
    "g.show(\"cs_emps.html\")"
   ]
  },
  {
   "cell_type": "code",
   "execution_count": null,
   "metadata": {},
   "outputs": [],
   "source": []
  }
 ],
 "metadata": {
  "kernelspec": {
   "display_name": "Python 3",
   "language": "python",
   "name": "python3"
  },
  "language_info": {
   "codemirror_mode": {
    "name": "ipython",
    "version": 3
   },
   "file_extension": ".py",
   "mimetype": "text/x-python",
   "name": "python",
   "nbconvert_exporter": "python",
   "pygments_lexer": "ipython3",
   "version": "3.7.3"
  }
 },
 "nbformat": 4,
 "nbformat_minor": 2
}
